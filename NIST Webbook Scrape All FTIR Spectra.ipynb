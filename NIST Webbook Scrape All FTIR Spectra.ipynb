{
 "cells": [
  {
   "cell_type": "markdown",
   "id": "1cb97b76",
   "metadata": {},
   "source": [
    "# NIST Scrape \n",
    "Starting from this work:\n",
    "\n",
    "1) https://pubs.acs.org/doi/pdf/10.1021/acs.analchem.1c00867\n",
    "\n",
    "2) https://github.com/Ohio-State-Allen-Lab/FTIRMachineLearning\n",
    "\n",
    "3) https://www.linkedin.com/pulse/unofficial-nist-webbook-api-how-get-thermochemistry-data-contreras/?trk=pulse-article_more-articles_related-content-card\n",
    "\n",
    "4) https://github.com/oscarcontrerasnavas/nist-webbook-API\n",
    "\n",
    "My work stored here: \n",
    "\n",
    "https://github.com/kevinpatrickkent/FTIRMachineLearning/"
   ]
  },
  {
   "cell_type": "code",
   "execution_count": 1,
   "id": "c6434aca",
   "metadata": {},
   "outputs": [],
   "source": [
    "# Kevin Patrick Kent\n",
    "# updated from original code at https://github.com/Ohio-State-Allen-Lab/FTIRMachineLearning\n",
    "# RUN IN COMMAND LINE: 1 ) python -m pip install git+https://github.com/nzhagen/jcamp\n",
    "\n",
    "import os\n",
    "import requests, urllib\n",
    "import argparse\n",
    "import logging\n",
    "import pandas as pd \n",
    "import jcamp #Planning to use this later to import all of the .jdx files\n",
    "#from model.utils import set_logger\n",
    "# Was not able to run this on the first runthrough.  Will try this again later after investigation but continuing for now."
   ]
  },
  {
   "cell_type": "code",
   "execution_count": 2,
   "id": "e1ab6a22",
   "metadata": {},
   "outputs": [],
   "source": [
    "nist_url = \"https://webbook.nist.gov/cgi/cbook.cgi\""
   ]
  },
  {
   "cell_type": "markdown",
   "id": "b83c5ee1",
   "metadata": {},
   "source": [
    "# Get Dataframe of all Molecules in NIST Webbook\n",
    "\n",
    "Used webbook API from here: https://github.com/oscarcontrerasnavas/nist-webbook-API"
   ]
  },
  {
   "cell_type": "code",
   "execution_count": 3,
   "id": "8c56ccee",
   "metadata": {},
   "outputs": [
    {
     "data": {
      "text/html": [
       "<div>\n",
       "<style scoped>\n",
       "    .dataframe tbody tr th:only-of-type {\n",
       "        vertical-align: middle;\n",
       "    }\n",
       "\n",
       "    .dataframe tbody tr th {\n",
       "        vertical-align: top;\n",
       "    }\n",
       "\n",
       "    .dataframe thead th {\n",
       "        text-align: right;\n",
       "    }\n",
       "</style>\n",
       "<table border=\"1\" class=\"dataframe\">\n",
       "  <thead>\n",
       "    <tr style=\"text-align: right;\">\n",
       "      <th></th>\n",
       "      <th>name</th>\n",
       "      <th>cas</th>\n",
       "      <th>formula</th>\n",
       "      <th>molecular_weight</th>\n",
       "      <th>image</th>\n",
       "    </tr>\n",
       "  </thead>\n",
       "  <tbody>\n",
       "    <tr>\n",
       "      <th>0</th>\n",
       "      <td>methane</td>\n",
       "      <td>74828</td>\n",
       "      <td>CH4</td>\n",
       "      <td>16.0425</td>\n",
       "      <td>https://webbook.nist.gov/cgi/cbook.cgi?Struct=...</td>\n",
       "    </tr>\n",
       "    <tr>\n",
       "      <th>1</th>\n",
       "      <td>biotin</td>\n",
       "      <td>58855</td>\n",
       "      <td>C10H16N2O3S</td>\n",
       "      <td>244.3110</td>\n",
       "      <td>https://webbook.nist.gov/cgi/cbook.cgi?Struct=...</td>\n",
       "    </tr>\n",
       "    <tr>\n",
       "      <th>2</th>\n",
       "      <td>butanoic acid, 3-hydroxy-3-methyl-</td>\n",
       "      <td>625081</td>\n",
       "      <td>C5H10O3</td>\n",
       "      <td>118.1311</td>\n",
       "      <td>https://webbook.nist.gov/cgi/cbook.cgi?Struct=...</td>\n",
       "    </tr>\n",
       "    <tr>\n",
       "      <th>3</th>\n",
       "      <td>lead telluride</td>\n",
       "      <td>1314916</td>\n",
       "      <td>PbTe</td>\n",
       "      <td>334.8000</td>\n",
       "      <td>https://webbook.nist.gov/cgi/cbook.cgi?Struct=...</td>\n",
       "    </tr>\n",
       "    <tr>\n",
       "      <th>4</th>\n",
       "      <td>ditungsten zirconium octaoxide</td>\n",
       "      <td>16853740</td>\n",
       "      <td>O8W2Zr</td>\n",
       "      <td>586.9000</td>\n",
       "      <td>https://webbook.nist.gov/cgi/cbook.cgi?Struct=...</td>\n",
       "    </tr>\n",
       "  </tbody>\n",
       "</table>\n",
       "</div>"
      ],
      "text/plain": [
       "                                 name       cas      formula  \\\n",
       "0                             methane     74828          CH4   \n",
       "1                              biotin     58855  C10H16N2O3S   \n",
       "2  butanoic acid, 3-hydroxy-3-methyl-    625081      C5H10O3   \n",
       "3                      lead telluride   1314916         PbTe   \n",
       "4      ditungsten zirconium octaoxide  16853740       O8W2Zr   \n",
       "\n",
       "   molecular_weight                                              image  \n",
       "0           16.0425  https://webbook.nist.gov/cgi/cbook.cgi?Struct=...  \n",
       "1          244.3110  https://webbook.nist.gov/cgi/cbook.cgi?Struct=...  \n",
       "2          118.1311  https://webbook.nist.gov/cgi/cbook.cgi?Struct=...  \n",
       "3          334.8000  https://webbook.nist.gov/cgi/cbook.cgi?Struct=...  \n",
       "4          586.9000  https://webbook.nist.gov/cgi/cbook.cgi?Struct=...  "
      ]
     },
     "execution_count": 3,
     "metadata": {},
     "output_type": "execute_result"
    }
   ],
   "source": [
    "# I chose 40000 here because there are currently 37495 molecules on webbook\n",
    "\n",
    "# Perform an inital query to see how many items are present in the database\n",
    "url = 'https://nist-api.fly.dev/substances?page=1&per_page=10'\n",
    "response = requests.get(url)\n",
    "json = response.json()\n",
    "tot = json['totalItems'] #Get the total number of items and store it for the next request\n",
    "\n",
    "url = 'https://nist-api.fly.dev/substances?page=1&per_page=' + str(tot+1000)\n",
    "response = requests.get(url) \n",
    "json = response.json()\n",
    "df = pd.DataFrame(json['items'])\n",
    "df.head()"
   ]
  },
  {
   "cell_type": "markdown",
   "id": "0ea90dcf",
   "metadata": {},
   "source": [
    "# Define Function for Scraping the IR Spectra from Webbook\n",
    "\n",
    "Used the function from here: https://github.com/Ohio-State-Allen-Lab/FTIRMachineLearning"
   ]
  },
  {
   "cell_type": "code",
   "execution_count": 4,
   "id": "f562f640",
   "metadata": {},
   "outputs": [],
   "source": [
    "def scrape_data(cas_ls, params, data_dir):\n",
    "\t'''Collect data from NIST database and store them in jdx format.\n",
    "    Args:\n",
    "        cas_ls: (list) CAS ids to download data for\n",
    "\t\tparams: (dict) queries to be added to url\n",
    "\t\tdata_dir: (string) path to store the data\n",
    "    Returns:\n",
    "        None\n",
    "    '''\t\n",
    "    \n",
    "    #Create directory for the relevant spetra \n",
    "\tspectra_path = os.path.join(data_dir, params['Type'].lower(), '')\n",
    "\tif not os.path.exists(spectra_path):\n",
    "\t\tos.makedirs(spectra_path)\n",
    "\n",
    "\tnum_created = 0\n",
    "\tfor cas_id in cas_ls:\n",
    "\t\tparams['JCAMP'] = 'C' + cas_id\n",
    "\t\tresponse = requests.get(nist_url, params=params)\n",
    "\n",
    "\t\tif response.text == '##TITLE=Spectrum not found.\\n##END=\\n':\n",
    "\t\t\tcontinue\n",
    "\t\tnum_created+=1\n",
    "\t\tlogging.info('Creating {} spectra for id: {}. Total spectra created {}'.format(params['Type'].lower(), cas_id, num_created))\n",
    "\t\twith open(spectra_path +cas_id +'.jdx', 'wb') as data:\n",
    "\t\t\tdata.write(response.content)"
   ]
  },
  {
   "cell_type": "code",
   "execution_count": null,
   "id": "d22468b1",
   "metadata": {},
   "outputs": [],
   "source": [
    "\n",
    "#Create data directory to store logs and spectra\n",
    "data_dir = './data'\n",
    "if not os.path.exists(data_dir):\n",
    "\tos.makedirs(data_dir)\n",
    "\n",
    "logging.info('Scrape IR spectra')\n",
    "# Taking this out because I'm running from the command line\n",
    "#if args.scrap_IR:\n",
    "cas_ids = df.cas\n",
    "params={'JCAMP': '', 'Type': 'IR', 'Index': 0}\t\n",
    "scrape_data(cas_ids, params, data_dir)"
   ]
  },
  {
   "cell_type": "code",
   "execution_count": null,
   "id": "a5e67f89",
   "metadata": {},
   "outputs": [],
   "source": []
  },
  {
   "cell_type": "code",
   "execution_count": null,
   "id": "68eb253f",
   "metadata": {},
   "outputs": [],
   "source": []
  },
  {
   "cell_type": "markdown",
   "id": "24ef39d3",
   "metadata": {},
   "source": [
    "# Not Using these cells right now marked for deletion"
   ]
  },
  {
   "cell_type": "code",
   "execution_count": null,
   "id": "46e41303",
   "metadata": {},
   "outputs": [],
   "source": [
    "def scrape_inchi(cas_ls, params, data_dir):\n",
    "\t'''Collect Inchi keys from NIST database and store them in txt format.\n",
    "    Args:\n",
    "        cas_ls: (list) CAS ids to download data for\n",
    "\t\tparams: (dict) queries to be added to url\n",
    "\t\tdata_dir: (string) path to store the data\n",
    "    Returns:\n",
    "        None\n",
    "    '''\t\n",
    "\n",
    "\t#Create file path for storing inchi keys\n",
    "\tinchi_path = os.path.join(data_dir, 'inchi.txt')\n",
    "\tnum_created = 0\n",
    "\twith open(inchi_path,'a') as file:\n",
    "\t\tcontent = '{}\\t{}\\n'.format('cas_id', 'inchi')\n",
    "\t\tfile.write(content)\n",
    "\n",
    "\t\tfor cas_id in cas_ls:\n",
    "\t\t\tparams['GetInChI'] = 'C' + cas_id\n",
    "\t\t\tresponse = requests.get(nist_url, params=params)\n",
    "\n",
    "\t\t\tnum_created+=1\n",
    "\t\t\tlogging.info('Creating InChi key for id: {}. Total keys created {}'.format(cas_id, num_created))\n",
    "\t\t\tcontent = '{}\\t{}\\n'.format(cas_id,response.content.decode(\"utf-8\"))\n",
    "\t\t\tfile.write(content)"
   ]
  },
  {
   "cell_type": "code",
   "execution_count": null,
   "id": "40059aa0",
   "metadata": {},
   "outputs": [],
   "source": [
    "# All code to used if you're running this from the command line.\n",
    "# I'm trying to run this in a Jupyter notebook.\n",
    "\n",
    "#parser = argparse.ArgumentParser()\n",
    "#parser.add_argument('--save_dir', default= './data',\\\n",
    "#     help = \"Directory path to store scrapped data\")\n",
    "#parser.add_argument('--cas_list', default= 'species.txt',\\\n",
    "#    help = \"File containing CAS number and formula of molecules\")\n",
    "#parser.add_argument('--scrape_IR', default= True,\\\n",
    "#    help = \"Whether to download IR or not\")\n",
    "#parser.add_argument('--scrape_InChi', default= True,\\\n",
    "#    help = \"Whether to download InChi or not\")"
   ]
  },
  {
   "cell_type": "code",
   "execution_count": null,
   "id": "2acbd201",
   "metadata": {},
   "outputs": [],
   "source": [
    "# Command line stuff\n",
    "#args = parser.parse_args()\n",
    "\n",
    "cas_list = 'species.txt'\n",
    "\n",
    "#Check if file containing CAS ids exist\n",
    "assert os.path.isfile(cas_list),\"No file named {} exists\".format(cas_list)\n",
    "\n",
    "# Removing this until I figure out how to bring in models.util\n",
    "#set_logger(data_dir, 'scrape.log')"
   ]
  }
 ],
 "metadata": {
  "kernelspec": {
   "display_name": "Python 3 (ipykernel)",
   "language": "python",
   "name": "python3"
  },
  "language_info": {
   "codemirror_mode": {
    "name": "ipython",
    "version": 3
   },
   "file_extension": ".py",
   "mimetype": "text/x-python",
   "name": "python",
   "nbconvert_exporter": "python",
   "pygments_lexer": "ipython3",
   "version": "3.9.13"
  }
 },
 "nbformat": 4,
 "nbformat_minor": 5
}
